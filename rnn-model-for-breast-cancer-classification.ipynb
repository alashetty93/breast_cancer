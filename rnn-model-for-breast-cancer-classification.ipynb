{
 "cells": [
  {
   "cell_type": "markdown",
   "metadata": {
    "_cell_guid": "79c7e3d0-c299-4dcb-8224-4455121ee9b0",
    "_uuid": "d629ff2d2480ee46fbb7e2d37f6b5fab8052498a",
    "collapsed": true,
    "papermill": {
     "duration": 0.011435,
     "end_time": "2020-08-16T13:07:16.922433",
     "exception": false,
     "start_time": "2020-08-16T13:07:16.910998",
     "status": "completed"
    },
    "tags": []
   },
   "source": [
    "# Breast Cancer Classification with Deep Learning"
   ]
  },
  {
   "cell_type": "markdown",
   "metadata": {
    "papermill": {
     "duration": 0.010968,
     "end_time": "2020-08-16T13:07:16.943731",
     "exception": false,
     "start_time": "2020-08-16T13:07:16.932763",
     "status": "completed"
    },
    "tags": []
   },
   "source": [
    "This notebook performs a deep learning algorithm to train a deep neural network with the breast cancer wisconsin (diagnostic) [dataset](https://archive.ics.uci.edu/ml/datasets/Breast+Cancer+Wisconsin+%28Diagnostic%29) from UCI Machine Learning Repository to predict breast cancer whether the tumor is benign or malignant."
   ]
  },
  {
   "cell_type": "markdown",
   "metadata": {
    "papermill": {
     "duration": 0.009212,
     "end_time": "2020-08-16T13:07:16.962662",
     "exception": false,
     "start_time": "2020-08-16T13:07:16.953450",
     "status": "completed"
    },
    "tags": []
   },
   "source": [
    "The dataset consists of features that describe characteristics of the cell\n",
    "nuclei present in a digitised image, these features are defined as follows:\n",
    "\n",
    "1. **Radius:** the average distance from the center of the nucleus to each of the boundary points<br>\n",
    "2. **Texture:** the standard deviation of the gray-scale values, the gray-scale value represents the intensity of the shades of gray in each pixel of the image<br>\n",
    "3. **Perimeter:** the total distance of the boundary of the cell nucleus<br>\n",
    "4. **Area:** the number of pixels on the interior of the boundary and adding one-half of the pixels on the perimeter, to correct for the error caused by digitisation<br>\n",
    "5. **Smoothness:** the difference between the length of a radius length and the mean length of the two radius lines surrounding it, hence the local variation in radius lengths<br>\n",
    "6. **Compactness:** the perimeter and area are combined to obtain a measure of compactness of the cell nuclei<br>\n",
    "7. **Concavity:** the severity of concave portions of the contour, a high concavity means that the boundary of the cell nucleus has indentations, and thus is rather rough than smooth<br>\n",
    "8. **Concave points:** the number of concave portions of the contour of the cell nucleus<br>\n",
    "9. **Symmetry:** the symmetry is determined by first finding the longest line from boundary point to boundary point through the center of the nucleus, subsequently the relative length differences between the lines perpendicular to the longest line to the boundary in both directions are measured, attention should be given to nuclei where the longest line cuts through the boundary because of concavity<br>\n",
    "10. **Fractal dimension:** the fractal dimension is approximated by the \"coastline approximation\", the perimeter of the nucleus can be measured using different lengths of measuring sticks, as this length increases, the total length of the measured \"coastline\" decreases due to lower precision of the measurement, the theoretical fractal dimension is then determined by dividing the logarithm of the observed perimeter L(s) by the logarithm of the measuring stick length s, plotting log(L(s)) against log(s) and determining the negative value of the slope results in an approximation of the fractal dimension D, finally, the desired feature is determined by the calculation D - 1."
   ]
  },
  {
   "cell_type": "markdown",
   "metadata": {
    "papermill": {
     "duration": 0.009868,
     "end_time": "2020-08-16T13:07:16.982201",
     "exception": false,
     "start_time": "2020-08-16T13:07:16.972333",
     "status": "completed"
    },
    "tags": []
   },
   "source": [
    "The dataset has 30 features (in vector format) rather than 10 because a single feature contains MEAN radius, SE radius, WORST radius, etc. The problem is straightforward, Scientists collected features on patients with (malignant) or without (benign) breast cancer"
   ]
  },
  {
   "cell_type": "code",
   "execution_count": 1,
   "metadata": {
    "execution": {
     "iopub.execute_input": "2020-08-16T13:07:17.014021Z",
     "iopub.status.busy": "2020-08-16T13:07:17.012985Z",
     "iopub.status.idle": "2020-08-16T13:07:20.643198Z",
     "shell.execute_reply": "2020-08-16T13:07:20.642315Z"
    },
    "papermill": {
     "duration": 3.651227,
     "end_time": "2020-08-16T13:07:20.643361",
     "exception": false,
     "start_time": "2020-08-16T13:07:16.992134",
     "status": "completed"
    },
    "tags": []
   },
   "outputs": [],
   "source": [
    "# import necessary libraries\n",
    "import os\n",
    "import torch\n",
    "import warnings\n",
    "import numpy as np\n",
    "import pandas as pd\n",
    "import seaborn as sns\n",
    "os.listdir('../input/')\n",
    "import matplotlib.pyplot as plt\n",
    "warnings.filterwarnings('ignore')\n",
    "from sklearn.preprocessing import StandardScaler\n",
    "from sklearn.model_selection import train_test_split"
   ]
  },
  {
   "cell_type": "code",
   "execution_count": 2,
   "metadata": {
    "execution": {
     "iopub.execute_input": "2020-08-16T13:07:20.672100Z",
     "iopub.status.busy": "2020-08-16T13:07:20.670966Z",
     "iopub.status.idle": "2020-08-16T13:07:20.680423Z",
     "shell.execute_reply": "2020-08-16T13:07:20.679279Z"
    },
    "papermill": {
     "duration": 0.026545,
     "end_time": "2020-08-16T13:07:20.680631",
     "exception": false,
     "start_time": "2020-08-16T13:07:20.654086",
     "status": "completed"
    },
    "tags": []
   },
   "outputs": [
    {
     "name": "stdout",
     "output_type": "stream",
     "text": [
      "/kaggle/input/breast-cancer-wisconsin-data/data.csv\n"
     ]
    }
   ],
   "source": [
    "import os\n",
    "for dirname, _, filenames in os.walk('/kaggle/input'):\n",
    "    for filename in filenames:\n",
    "        print(os.path.join(dirname, filename))"
   ]
  },
  {
   "cell_type": "code",
   "execution_count": 3,
   "metadata": {
    "execution": {
     "iopub.execute_input": "2020-08-16T13:07:20.710952Z",
     "iopub.status.busy": "2020-08-16T13:07:20.709861Z",
     "iopub.status.idle": "2020-08-16T13:07:20.713206Z",
     "shell.execute_reply": "2020-08-16T13:07:20.713807Z"
    },
    "papermill": {
     "duration": 0.022733,
     "end_time": "2020-08-16T13:07:20.713983",
     "exception": false,
     "start_time": "2020-08-16T13:07:20.691250",
     "status": "completed"
    },
    "tags": []
   },
   "outputs": [],
   "source": [
    "%matplotlib inline"
   ]
  },
  {
   "cell_type": "code",
   "execution_count": 4,
   "metadata": {
    "execution": {
     "iopub.execute_input": "2020-08-16T13:07:20.744081Z",
     "iopub.status.busy": "2020-08-16T13:07:20.743090Z",
     "iopub.status.idle": "2020-08-16T13:07:20.772693Z",
     "shell.execute_reply": "2020-08-16T13:07:20.771771Z"
    },
    "papermill": {
     "duration": 0.048889,
     "end_time": "2020-08-16T13:07:20.772857",
     "exception": false,
     "start_time": "2020-08-16T13:07:20.723968",
     "status": "completed"
    },
    "tags": []
   },
   "outputs": [],
   "source": [
    "# load the dataset\n",
    "data = pd.read_csv('../input/breast-cancer-wisconsin-data/data.csv')"
   ]
  },
  {
   "cell_type": "code",
   "execution_count": 5,
   "metadata": {
    "execution": {
     "iopub.execute_input": "2020-08-16T13:07:20.800017Z",
     "iopub.status.busy": "2020-08-16T13:07:20.799025Z",
     "iopub.status.idle": "2020-08-16T13:07:20.925805Z",
     "shell.execute_reply": "2020-08-16T13:07:20.924859Z"
    },
    "papermill": {
     "duration": 0.142672,
     "end_time": "2020-08-16T13:07:20.925990",
     "exception": false,
     "start_time": "2020-08-16T13:07:20.783318",
     "status": "completed"
    },
    "tags": []
   },
   "outputs": [
    {
     "name": "stdout",
     "output_type": "stream",
     "text": [
      "<class 'pandas.core.frame.DataFrame'>\n",
      "RangeIndex: 569 entries, 0 to 568\n",
      "Data columns (total 33 columns):\n",
      " #   Column                   Non-Null Count  Dtype  \n",
      "---  ------                   --------------  -----  \n",
      " 0   id                       569 non-null    int64  \n",
      " 1   diagnosis                569 non-null    object \n",
      " 2   radius_mean              569 non-null    float64\n",
      " 3   texture_mean             569 non-null    float64\n",
      " 4   perimeter_mean           569 non-null    float64\n",
      " 5   area_mean                569 non-null    float64\n",
      " 6   smoothness_mean          569 non-null    float64\n",
      " 7   compactness_mean         569 non-null    float64\n",
      " 8   concavity_mean           569 non-null    float64\n",
      " 9   concave points_mean      569 non-null    float64\n",
      " 10  symmetry_mean            569 non-null    float64\n",
      " 11  fractal_dimension_mean   569 non-null    float64\n",
      " 12  radius_se                569 non-null    float64\n",
      " 13  texture_se               569 non-null    float64\n",
      " 14  perimeter_se             569 non-null    float64\n",
      " 15  area_se                  569 non-null    float64\n",
      " 16  smoothness_se            569 non-null    float64\n",
      " 17  compactness_se           569 non-null    float64\n",
      " 18  concavity_se             569 non-null    float64\n",
      " 19  concave points_se        569 non-null    float64\n",
      " 20  symmetry_se              569 non-null    float64\n",
      " 21  fractal_dimension_se     569 non-null    float64\n",
      " 22  radius_worst             569 non-null    float64\n",
      " 23  texture_worst            569 non-null    float64\n",
      " 24  perimeter_worst          569 non-null    float64\n",
      " 25  area_worst               569 non-null    float64\n",
      " 26  smoothness_worst         569 non-null    float64\n",
      " 27  compactness_worst        569 non-null    float64\n",
      " 28  concavity_worst          569 non-null    float64\n",
      " 29  concave points_worst     569 non-null    float64\n",
      " 30  symmetry_worst           569 non-null    float64\n",
      " 31  fractal_dimension_worst  569 non-null    float64\n",
      " 32  Unnamed: 32              0 non-null      float64\n",
      "dtypes: float64(31), int64(1), object(1)\n",
      "memory usage: 146.8+ KB\n"
     ]
    }
   ],
   "source": [
    "# check for basic information\n",
    "data.info()"
   ]
  },
  {
   "cell_type": "code",
   "execution_count": 6,
   "metadata": {
    "execution": {
     "iopub.execute_input": "2020-08-16T13:07:20.976146Z",
     "iopub.status.busy": "2020-08-16T13:07:20.974970Z",
     "iopub.status.idle": "2020-08-16T13:07:20.997415Z",
     "shell.execute_reply": "2020-08-16T13:07:20.996585Z"
    },
    "papermill": {
     "duration": 0.06034,
     "end_time": "2020-08-16T13:07:20.997606",
     "exception": false,
     "start_time": "2020-08-16T13:07:20.937266",
     "status": "completed"
    },
    "tags": []
   },
   "outputs": [
    {
     "data": {
      "text/html": [
       "<div>\n",
       "<style scoped>\n",
       "    .dataframe tbody tr th:only-of-type {\n",
       "        vertical-align: middle;\n",
       "    }\n",
       "\n",
       "    .dataframe tbody tr th {\n",
       "        vertical-align: top;\n",
       "    }\n",
       "\n",
       "    .dataframe thead th {\n",
       "        text-align: right;\n",
       "    }\n",
       "</style>\n",
       "<table border=\"1\" class=\"dataframe\">\n",
       "  <thead>\n",
       "    <tr style=\"text-align: right;\">\n",
       "      <th></th>\n",
       "      <th>id</th>\n",
       "      <th>diagnosis</th>\n",
       "      <th>radius_mean</th>\n",
       "      <th>texture_mean</th>\n",
       "      <th>perimeter_mean</th>\n",
       "      <th>area_mean</th>\n",
       "      <th>smoothness_mean</th>\n",
       "      <th>compactness_mean</th>\n",
       "      <th>concavity_mean</th>\n",
       "      <th>concave points_mean</th>\n",
       "      <th>...</th>\n",
       "      <th>texture_worst</th>\n",
       "      <th>perimeter_worst</th>\n",
       "      <th>area_worst</th>\n",
       "      <th>smoothness_worst</th>\n",
       "      <th>compactness_worst</th>\n",
       "      <th>concavity_worst</th>\n",
       "      <th>concave points_worst</th>\n",
       "      <th>symmetry_worst</th>\n",
       "      <th>fractal_dimension_worst</th>\n",
       "      <th>Unnamed: 32</th>\n",
       "    </tr>\n",
       "  </thead>\n",
       "  <tbody>\n",
       "    <tr>\n",
       "      <th>0</th>\n",
       "      <td>842302</td>\n",
       "      <td>M</td>\n",
       "      <td>17.99</td>\n",
       "      <td>10.38</td>\n",
       "      <td>122.80</td>\n",
       "      <td>1001.0</td>\n",
       "      <td>0.11840</td>\n",
       "      <td>0.27760</td>\n",
       "      <td>0.3001</td>\n",
       "      <td>0.14710</td>\n",
       "      <td>...</td>\n",
       "      <td>17.33</td>\n",
       "      <td>184.60</td>\n",
       "      <td>2019.0</td>\n",
       "      <td>0.1622</td>\n",
       "      <td>0.6656</td>\n",
       "      <td>0.7119</td>\n",
       "      <td>0.2654</td>\n",
       "      <td>0.4601</td>\n",
       "      <td>0.11890</td>\n",
       "      <td>NaN</td>\n",
       "    </tr>\n",
       "    <tr>\n",
       "      <th>1</th>\n",
       "      <td>842517</td>\n",
       "      <td>M</td>\n",
       "      <td>20.57</td>\n",
       "      <td>17.77</td>\n",
       "      <td>132.90</td>\n",
       "      <td>1326.0</td>\n",
       "      <td>0.08474</td>\n",
       "      <td>0.07864</td>\n",
       "      <td>0.0869</td>\n",
       "      <td>0.07017</td>\n",
       "      <td>...</td>\n",
       "      <td>23.41</td>\n",
       "      <td>158.80</td>\n",
       "      <td>1956.0</td>\n",
       "      <td>0.1238</td>\n",
       "      <td>0.1866</td>\n",
       "      <td>0.2416</td>\n",
       "      <td>0.1860</td>\n",
       "      <td>0.2750</td>\n",
       "      <td>0.08902</td>\n",
       "      <td>NaN</td>\n",
       "    </tr>\n",
       "    <tr>\n",
       "      <th>2</th>\n",
       "      <td>84300903</td>\n",
       "      <td>M</td>\n",
       "      <td>19.69</td>\n",
       "      <td>21.25</td>\n",
       "      <td>130.00</td>\n",
       "      <td>1203.0</td>\n",
       "      <td>0.10960</td>\n",
       "      <td>0.15990</td>\n",
       "      <td>0.1974</td>\n",
       "      <td>0.12790</td>\n",
       "      <td>...</td>\n",
       "      <td>25.53</td>\n",
       "      <td>152.50</td>\n",
       "      <td>1709.0</td>\n",
       "      <td>0.1444</td>\n",
       "      <td>0.4245</td>\n",
       "      <td>0.4504</td>\n",
       "      <td>0.2430</td>\n",
       "      <td>0.3613</td>\n",
       "      <td>0.08758</td>\n",
       "      <td>NaN</td>\n",
       "    </tr>\n",
       "    <tr>\n",
       "      <th>3</th>\n",
       "      <td>84348301</td>\n",
       "      <td>M</td>\n",
       "      <td>11.42</td>\n",
       "      <td>20.38</td>\n",
       "      <td>77.58</td>\n",
       "      <td>386.1</td>\n",
       "      <td>0.14250</td>\n",
       "      <td>0.28390</td>\n",
       "      <td>0.2414</td>\n",
       "      <td>0.10520</td>\n",
       "      <td>...</td>\n",
       "      <td>26.50</td>\n",
       "      <td>98.87</td>\n",
       "      <td>567.7</td>\n",
       "      <td>0.2098</td>\n",
       "      <td>0.8663</td>\n",
       "      <td>0.6869</td>\n",
       "      <td>0.2575</td>\n",
       "      <td>0.6638</td>\n",
       "      <td>0.17300</td>\n",
       "      <td>NaN</td>\n",
       "    </tr>\n",
       "    <tr>\n",
       "      <th>4</th>\n",
       "      <td>84358402</td>\n",
       "      <td>M</td>\n",
       "      <td>20.29</td>\n",
       "      <td>14.34</td>\n",
       "      <td>135.10</td>\n",
       "      <td>1297.0</td>\n",
       "      <td>0.10030</td>\n",
       "      <td>0.13280</td>\n",
       "      <td>0.1980</td>\n",
       "      <td>0.10430</td>\n",
       "      <td>...</td>\n",
       "      <td>16.67</td>\n",
       "      <td>152.20</td>\n",
       "      <td>1575.0</td>\n",
       "      <td>0.1374</td>\n",
       "      <td>0.2050</td>\n",
       "      <td>0.4000</td>\n",
       "      <td>0.1625</td>\n",
       "      <td>0.2364</td>\n",
       "      <td>0.07678</td>\n",
       "      <td>NaN</td>\n",
       "    </tr>\n",
       "  </tbody>\n",
       "</table>\n",
       "<p>5 rows × 33 columns</p>\n",
       "</div>"
      ],
      "text/plain": [
       "         id diagnosis  radius_mean  texture_mean  perimeter_mean  area_mean  \\\n",
       "0    842302         M        17.99         10.38          122.80     1001.0   \n",
       "1    842517         M        20.57         17.77          132.90     1326.0   \n",
       "2  84300903         M        19.69         21.25          130.00     1203.0   \n",
       "3  84348301         M        11.42         20.38           77.58      386.1   \n",
       "4  84358402         M        20.29         14.34          135.10     1297.0   \n",
       "\n",
       "   smoothness_mean  compactness_mean  concavity_mean  concave points_mean  \\\n",
       "0          0.11840           0.27760          0.3001              0.14710   \n",
       "1          0.08474           0.07864          0.0869              0.07017   \n",
       "2          0.10960           0.15990          0.1974              0.12790   \n",
       "3          0.14250           0.28390          0.2414              0.10520   \n",
       "4          0.10030           0.13280          0.1980              0.10430   \n",
       "\n",
       "   ...  texture_worst  perimeter_worst  area_worst  smoothness_worst  \\\n",
       "0  ...          17.33           184.60      2019.0            0.1622   \n",
       "1  ...          23.41           158.80      1956.0            0.1238   \n",
       "2  ...          25.53           152.50      1709.0            0.1444   \n",
       "3  ...          26.50            98.87       567.7            0.2098   \n",
       "4  ...          16.67           152.20      1575.0            0.1374   \n",
       "\n",
       "   compactness_worst  concavity_worst  concave points_worst  symmetry_worst  \\\n",
       "0             0.6656           0.7119                0.2654          0.4601   \n",
       "1             0.1866           0.2416                0.1860          0.2750   \n",
       "2             0.4245           0.4504                0.2430          0.3613   \n",
       "3             0.8663           0.6869                0.2575          0.6638   \n",
       "4             0.2050           0.4000                0.1625          0.2364   \n",
       "\n",
       "   fractal_dimension_worst  Unnamed: 32  \n",
       "0                  0.11890          NaN  \n",
       "1                  0.08902          NaN  \n",
       "2                  0.08758          NaN  \n",
       "3                  0.17300          NaN  \n",
       "4                  0.07678          NaN  \n",
       "\n",
       "[5 rows x 33 columns]"
      ]
     },
     "execution_count": 6,
     "metadata": {},
     "output_type": "execute_result"
    }
   ],
   "source": [
    "# show first few recoreds\n",
    "data.head()"
   ]
  },
  {
   "cell_type": "code",
   "execution_count": 7,
   "metadata": {
    "execution": {
     "iopub.execute_input": "2020-08-16T13:07:21.031322Z",
     "iopub.status.busy": "2020-08-16T13:07:21.030425Z",
     "iopub.status.idle": "2020-08-16T13:07:21.041321Z",
     "shell.execute_reply": "2020-08-16T13:07:21.040466Z"
    },
    "papermill": {
     "duration": 0.031516,
     "end_time": "2020-08-16T13:07:21.041498",
     "exception": false,
     "start_time": "2020-08-16T13:07:21.009982",
     "status": "completed"
    },
    "tags": []
   },
   "outputs": [
    {
     "data": {
      "text/plain": [
       "id                           0\n",
       "diagnosis                    0\n",
       "radius_mean                  0\n",
       "texture_mean                 0\n",
       "perimeter_mean               0\n",
       "area_mean                    0\n",
       "smoothness_mean              0\n",
       "compactness_mean             0\n",
       "concavity_mean               0\n",
       "concave points_mean          0\n",
       "symmetry_mean                0\n",
       "fractal_dimension_mean       0\n",
       "radius_se                    0\n",
       "texture_se                   0\n",
       "perimeter_se                 0\n",
       "area_se                      0\n",
       "smoothness_se                0\n",
       "compactness_se               0\n",
       "concavity_se                 0\n",
       "concave points_se            0\n",
       "symmetry_se                  0\n",
       "fractal_dimension_se         0\n",
       "radius_worst                 0\n",
       "texture_worst                0\n",
       "perimeter_worst              0\n",
       "area_worst                   0\n",
       "smoothness_worst             0\n",
       "compactness_worst            0\n",
       "concavity_worst              0\n",
       "concave points_worst         0\n",
       "symmetry_worst               0\n",
       "fractal_dimension_worst      0\n",
       "Unnamed: 32                569\n",
       "dtype: int64"
      ]
     },
     "execution_count": 7,
     "metadata": {},
     "output_type": "execute_result"
    }
   ],
   "source": [
    "# check for any missing values\n",
    "data.isnull().sum()"
   ]
  },
  {
   "cell_type": "code",
   "execution_count": 8,
   "metadata": {
    "execution": {
     "iopub.execute_input": "2020-08-16T13:07:21.077690Z",
     "iopub.status.busy": "2020-08-16T13:07:21.076423Z",
     "iopub.status.idle": "2020-08-16T13:07:21.083692Z",
     "shell.execute_reply": "2020-08-16T13:07:21.082860Z"
    },
    "papermill": {
     "duration": 0.029754,
     "end_time": "2020-08-16T13:07:21.083855",
     "exception": false,
     "start_time": "2020-08-16T13:07:21.054101",
     "status": "completed"
    },
    "tags": []
   },
   "outputs": [
    {
     "data": {
      "text/plain": [
       "B    357\n",
       "M    212\n",
       "Name: diagnosis, dtype: int64"
      ]
     },
     "execution_count": 8,
     "metadata": {},
     "output_type": "execute_result"
    }
   ],
   "source": [
    "# diagnosis distribution\n",
    "data['diagnosis'].value_counts()"
   ]
  },
  {
   "cell_type": "markdown",
   "metadata": {
    "papermill": {
     "duration": 0.013287,
     "end_time": "2020-08-16T13:07:21.110674",
     "exception": false,
     "start_time": "2020-08-16T13:07:21.097387",
     "status": "completed"
    },
    "tags": []
   },
   "source": [
    "Main target is the diagnosis column (M = malignant or B = benign) so let's turn the strings into 1 and 0"
   ]
  },
  {
   "cell_type": "code",
   "execution_count": 9,
   "metadata": {
    "execution": {
     "iopub.execute_input": "2020-08-16T13:07:21.148266Z",
     "iopub.status.busy": "2020-08-16T13:07:21.147182Z",
     "iopub.status.idle": "2020-08-16T13:07:21.152727Z",
     "shell.execute_reply": "2020-08-16T13:07:21.151895Z"
    },
    "papermill": {
     "duration": 0.027398,
     "end_time": "2020-08-16T13:07:21.152861",
     "exception": false,
     "start_time": "2020-08-16T13:07:21.125463",
     "status": "completed"
    },
    "tags": []
   },
   "outputs": [],
   "source": [
    "# encode categorical data\n",
    "data['diagnosis'].replace({'M': 1, 'B': 0}, inplace = True)"
   ]
  },
  {
   "cell_type": "markdown",
   "metadata": {
    "papermill": {
     "duration": 0.011756,
     "end_time": "2020-08-16T13:07:21.176454",
     "exception": false,
     "start_time": "2020-08-16T13:07:21.164698",
     "status": "completed"
    },
    "tags": []
   },
   "source": [
    "Next step is to prepare the training and test sets, id and \"Unamed: 32\" columns won't help us in the prediction so we gonna drop them"
   ]
  },
  {
   "cell_type": "code",
   "execution_count": 10,
   "metadata": {
    "execution": {
     "iopub.execute_input": "2020-08-16T13:07:21.208078Z",
     "iopub.status.busy": "2020-08-16T13:07:21.206735Z",
     "iopub.status.idle": "2020-08-16T13:07:21.211691Z",
     "shell.execute_reply": "2020-08-16T13:07:21.210351Z"
    },
    "papermill": {
     "duration": 0.023633,
     "end_time": "2020-08-16T13:07:21.211894",
     "exception": false,
     "start_time": "2020-08-16T13:07:21.188261",
     "status": "completed"
    },
    "tags": []
   },
   "outputs": [],
   "source": [
    "Y = data['diagnosis'].to_numpy()"
   ]
  },
  {
   "cell_type": "code",
   "execution_count": 11,
   "metadata": {
    "execution": {
     "iopub.execute_input": "2020-08-16T13:07:21.246606Z",
     "iopub.status.busy": "2020-08-16T13:07:21.245439Z",
     "iopub.status.idle": "2020-08-16T13:07:21.250140Z",
     "shell.execute_reply": "2020-08-16T13:07:21.248799Z"
    },
    "papermill": {
     "duration": 0.025936,
     "end_time": "2020-08-16T13:07:21.250305",
     "exception": false,
     "start_time": "2020-08-16T13:07:21.224369",
     "status": "completed"
    },
    "tags": []
   },
   "outputs": [],
   "source": [
    "X = data.drop(['id', 'diagnosis', 'Unnamed: 32'], axis = 1)"
   ]
  },
  {
   "cell_type": "code",
   "execution_count": 12,
   "metadata": {
    "execution": {
     "iopub.execute_input": "2020-08-16T13:07:21.285163Z",
     "iopub.status.busy": "2020-08-16T13:07:21.284322Z",
     "iopub.status.idle": "2020-08-16T13:07:21.288315Z",
     "shell.execute_reply": "2020-08-16T13:07:21.288872Z"
    },
    "papermill": {
     "duration": 0.026667,
     "end_time": "2020-08-16T13:07:21.289076",
     "exception": false,
     "start_time": "2020-08-16T13:07:21.262409",
     "status": "completed"
    },
    "tags": []
   },
   "outputs": [],
   "source": [
    "# split the dataset into the training set and test set\n",
    "X_train, X_test, y_train, y_test = train_test_split(X, Y, test_size = 0.3)"
   ]
  },
  {
   "cell_type": "markdown",
   "metadata": {
    "papermill": {
     "duration": 0.01539,
     "end_time": "2020-08-16T13:07:21.316842",
     "exception": false,
     "start_time": "2020-08-16T13:07:21.301452",
     "status": "completed"
    },
    "tags": []
   },
   "source": [
    "To have better results, a bit of scaling is important so that neither of features dominate the other"
   ]
  },
  {
   "cell_type": "code",
   "execution_count": 13,
   "metadata": {
    "execution": {
     "iopub.execute_input": "2020-08-16T13:07:21.353421Z",
     "iopub.status.busy": "2020-08-16T13:07:21.352405Z",
     "iopub.status.idle": "2020-08-16T13:07:21.364083Z",
     "shell.execute_reply": "2020-08-16T13:07:21.363206Z"
    },
    "papermill": {
     "duration": 0.032386,
     "end_time": "2020-08-16T13:07:21.364264",
     "exception": false,
     "start_time": "2020-08-16T13:07:21.331878",
     "status": "completed"
    },
    "tags": []
   },
   "outputs": [],
   "source": [
    "# feature scaling\n",
    "scaler = StandardScaler()\n",
    "X_train = scaler.fit_transform(X_train)\n",
    "X_test = scaler.transform(X_test)"
   ]
  },
  {
   "cell_type": "markdown",
   "metadata": {
    "papermill": {
     "duration": 0.011926,
     "end_time": "2020-08-16T13:07:21.388585",
     "exception": false,
     "start_time": "2020-08-16T13:07:21.376659",
     "status": "completed"
    },
    "tags": []
   },
   "source": [
    "Now we can make sure the data is nicely distributed. Then the next step is to create the model with training data and afterwards, testing is done using test data."
   ]
  },
  {
   "cell_type": "code",
   "execution_count": 14,
   "metadata": {
    "execution": {
     "iopub.execute_input": "2020-08-16T13:07:21.419882Z",
     "iopub.status.busy": "2020-08-16T13:07:21.418549Z",
     "iopub.status.idle": "2020-08-16T13:07:21.434916Z",
     "shell.execute_reply": "2020-08-16T13:07:21.435650Z"
    },
    "papermill": {
     "duration": 0.034946,
     "end_time": "2020-08-16T13:07:21.435852",
     "exception": false,
     "start_time": "2020-08-16T13:07:21.400906",
     "status": "completed"
    },
    "tags": []
   },
   "outputs": [],
   "source": [
    "# create the model\n",
    "model = torch.nn.Linear(X_train.shape[1], 1)"
   ]
  },
  {
   "cell_type": "markdown",
   "metadata": {
    "papermill": {
     "duration": 0.011858,
     "end_time": "2020-08-16T13:07:21.460697",
     "exception": false,
     "start_time": "2020-08-16T13:07:21.448839",
     "status": "completed"
    },
    "tags": []
   },
   "source": [
    "We didn't use the sigmoid activation function here. Rather, we used the binary cross-entropy with logits loss function instead of the binary cross-entropy loss function combined with the sigmoid function because it's more numerically stable and leads to better results than using a plain Sigmoid followed by a BCELoss."
   ]
  },
  {
   "cell_type": "code",
   "execution_count": 15,
   "metadata": {
    "execution": {
     "iopub.execute_input": "2020-08-16T13:07:21.496034Z",
     "iopub.status.busy": "2020-08-16T13:07:21.494825Z",
     "iopub.status.idle": "2020-08-16T13:07:21.498704Z",
     "shell.execute_reply": "2020-08-16T13:07:21.499304Z"
    },
    "papermill": {
     "duration": 0.026209,
     "end_time": "2020-08-16T13:07:21.499704",
     "exception": false,
     "start_time": "2020-08-16T13:07:21.473495",
     "status": "completed"
    },
    "tags": []
   },
   "outputs": [],
   "source": [
    "# load sets in format compatible with pytorch\n",
    "X_train = torch.from_numpy(X_train.astype(np.float32))\n",
    "X_test = torch.from_numpy(X_test.astype(np.float32))"
   ]
  },
  {
   "cell_type": "code",
   "execution_count": 16,
   "metadata": {
    "execution": {
     "iopub.execute_input": "2020-08-16T13:07:21.531722Z",
     "iopub.status.busy": "2020-08-16T13:07:21.530836Z",
     "iopub.status.idle": "2020-08-16T13:07:21.551270Z",
     "shell.execute_reply": "2020-08-16T13:07:21.550447Z"
    },
    "papermill": {
     "duration": 0.039203,
     "end_time": "2020-08-16T13:07:21.551458",
     "exception": false,
     "start_time": "2020-08-16T13:07:21.512255",
     "status": "completed"
    },
    "tags": []
   },
   "outputs": [],
   "source": [
    "y_train = torch.from_numpy(y_train).float().reshape(-1, 1)\n",
    "y_test = torch.from_numpy(y_test).float().reshape(-1, 1)"
   ]
  },
  {
   "cell_type": "markdown",
   "metadata": {
    "papermill": {
     "duration": 0.012447,
     "end_time": "2020-08-16T13:07:21.577240",
     "exception": false,
     "start_time": "2020-08-16T13:07:21.564793",
     "status": "completed"
    },
    "tags": []
   },
   "source": [
    "Finally, we can now specify the hyperparameters and iterate through the train data to run the model"
   ]
  },
  {
   "cell_type": "code",
   "execution_count": 17,
   "metadata": {
    "execution": {
     "iopub.execute_input": "2020-08-16T13:07:21.610949Z",
     "iopub.status.busy": "2020-08-16T13:07:21.609786Z",
     "iopub.status.idle": "2020-08-16T13:07:21.613481Z",
     "shell.execute_reply": "2020-08-16T13:07:21.612663Z"
    },
    "papermill": {
     "duration": 0.023259,
     "end_time": "2020-08-16T13:07:21.613649",
     "exception": false,
     "start_time": "2020-08-16T13:07:21.590390",
     "status": "completed"
    },
    "tags": []
   },
   "outputs": [],
   "source": [
    "def configure_loss_function():\n",
    "    return torch.nn.BCEWithLogitsLoss()"
   ]
  },
  {
   "cell_type": "code",
   "execution_count": 18,
   "metadata": {
    "execution": {
     "iopub.execute_input": "2020-08-16T13:07:21.645473Z",
     "iopub.status.busy": "2020-08-16T13:07:21.644490Z",
     "iopub.status.idle": "2020-08-16T13:07:21.647899Z",
     "shell.execute_reply": "2020-08-16T13:07:21.648604Z"
    },
    "papermill": {
     "duration": 0.022959,
     "end_time": "2020-08-16T13:07:21.648784",
     "exception": false,
     "start_time": "2020-08-16T13:07:21.625825",
     "status": "completed"
    },
    "tags": []
   },
   "outputs": [],
   "source": [
    "# use Adam optimiser for gradient descent\n",
    "def configure_optimizer(model):\n",
    "    return torch.optim.Adam(model.parameters(), lr = 0.0007)"
   ]
  },
  {
   "cell_type": "code",
   "execution_count": 19,
   "metadata": {
    "execution": {
     "iopub.execute_input": "2020-08-16T13:07:21.682709Z",
     "iopub.status.busy": "2020-08-16T13:07:21.681438Z",
     "iopub.status.idle": "2020-08-16T13:07:21.686246Z",
     "shell.execute_reply": "2020-08-16T13:07:21.685146Z"
    },
    "papermill": {
     "duration": 0.024317,
     "end_time": "2020-08-16T13:07:21.686410",
     "exception": false,
     "start_time": "2020-08-16T13:07:21.662093",
     "status": "completed"
    },
    "tags": []
   },
   "outputs": [],
   "source": [
    "# define the loss function to compare the output with the target\n",
    "criterion = configure_loss_function()\n",
    "optimizer = configure_optimizer(model)"
   ]
  },
  {
   "cell_type": "markdown",
   "metadata": {
    "papermill": {
     "duration": 0.012204,
     "end_time": "2020-08-16T13:07:21.711937",
     "exception": false,
     "start_time": "2020-08-16T13:07:21.699733",
     "status": "completed"
    },
    "tags": []
   },
   "source": [
    "As we have our model compiled, it's time for training"
   ]
  },
  {
   "cell_type": "code",
   "execution_count": 20,
   "metadata": {
    "execution": {
     "iopub.execute_input": "2020-08-16T13:07:21.750548Z",
     "iopub.status.busy": "2020-08-16T13:07:21.749711Z",
     "iopub.status.idle": "2020-08-16T13:07:23.673811Z",
     "shell.execute_reply": "2020-08-16T13:07:23.672987Z"
    },
    "papermill": {
     "duration": 1.949098,
     "end_time": "2020-08-16T13:07:23.673968",
     "exception": false,
     "start_time": "2020-08-16T13:07:21.724870",
     "status": "completed"
    },
    "tags": []
   },
   "outputs": [
    {
     "name": "stdout",
     "output_type": "stream",
     "text": [
      "Epoch 50/2000,  training loss = 0.6919992566108704, test loss = 0.6771234273910522\n",
      "Epoch 100/2000,  training loss = 0.5097143650054932, test loss = 0.5072143077850342\n",
      "Epoch 150/2000,  training loss = 0.4065144956111908, test loss = 0.4089096188545227\n",
      "Epoch 200/2000,  training loss = 0.343098521232605, test loss = 0.3464314341545105\n",
      "Epoch 250/2000,  training loss = 0.300227552652359, test loss = 0.3030129671096802\n",
      "Epoch 300/2000,  training loss = 0.2690480351448059, test loss = 0.2708388566970825\n",
      "Epoch 350/2000,  training loss = 0.24514460563659668, test loss = 0.24589309096336365\n",
      "Epoch 400/2000,  training loss = 0.2261209934949875, test loss = 0.22591449320316315\n",
      "Epoch 450/2000,  training loss = 0.2105657160282135, test loss = 0.20952337980270386\n",
      "Epoch 500/2000,  training loss = 0.19758498668670654, test loss = 0.1958203911781311\n",
      "Epoch 550/2000,  training loss = 0.1865784376859665, test loss = 0.18418912589550018\n",
      "Epoch 600/2000,  training loss = 0.17712333798408508, test loss = 0.17418992519378662\n",
      "Epoch 650/2000,  training loss = 0.16891151666641235, test loss = 0.16549986600875854\n",
      "Epoch 700/2000,  training loss = 0.1617116630077362, test loss = 0.15787583589553833\n",
      "Epoch 750/2000,  training loss = 0.1553467959165573, test loss = 0.15113122761249542\n",
      "Epoch 800/2000,  training loss = 0.1496785283088684, test loss = 0.14512042701244354\n",
      "Epoch 850/2000,  training loss = 0.14459717273712158, test loss = 0.1397281289100647\n",
      "Epoch 900/2000,  training loss = 0.14001472294330597, test loss = 0.13486185669898987\n",
      "Epoch 950/2000,  training loss = 0.13585974276065826, test loss = 0.13044674694538116\n",
      "Epoch 1000/2000,  training loss = 0.13207361102104187, test loss = 0.1264214962720871\n",
      "Epoch 1050/2000,  training loss = 0.12860774993896484, test loss = 0.12273534387350082\n",
      "Epoch 1100/2000,  training loss = 0.12542173266410828, test loss = 0.11934621632099152\n",
      "Epoch 1150/2000,  training loss = 0.12248150259256363, test loss = 0.11621859669685364\n",
      "Epoch 1200/2000,  training loss = 0.11975827813148499, test loss = 0.11332254111766815\n",
      "Epoch 1250/2000,  training loss = 0.11722759902477264, test loss = 0.11063262075185776\n",
      "Epoch 1300/2000,  training loss = 0.11486847698688507, test loss = 0.10812696814537048\n",
      "Epoch 1350/2000,  training loss = 0.11266285926103592, test loss = 0.10578682273626328\n",
      "Epoch 1400/2000,  training loss = 0.11059514433145523, test loss = 0.10359591990709305\n",
      "Epoch 1450/2000,  training loss = 0.10865171253681183, test loss = 0.10154003649950027\n",
      "Epoch 1500/2000,  training loss = 0.10682076215744019, test loss = 0.09960690885782242\n",
      "Epoch 1550/2000,  training loss = 0.10509185492992401, test loss = 0.09778561443090439\n",
      "Epoch 1600/2000,  training loss = 0.10345589369535446, test loss = 0.09606657922267914\n",
      "Epoch 1650/2000,  training loss = 0.10190479457378387, test loss = 0.09444135427474976\n",
      "Epoch 1700/2000,  training loss = 0.10043133795261383, test loss = 0.09290232509374619\n",
      "Epoch 1750/2000,  training loss = 0.09902921319007874, test loss = 0.09144283831119537\n",
      "Epoch 1800/2000,  training loss = 0.09769268333911896, test loss = 0.09005682915449142\n",
      "Epoch 1850/2000,  training loss = 0.09641668200492859, test loss = 0.08873894065618515\n",
      "Epoch 1900/2000,  training loss = 0.09519661962985992, test loss = 0.08748431503772736\n",
      "Epoch 1950/2000,  training loss = 0.09402844309806824, test loss = 0.08628852665424347\n",
      "Epoch 2000/2000,  training loss = 0.0929083600640297, test loss = 0.08514765650033951\n"
     ]
    }
   ],
   "source": [
    "# run the model\n",
    "epochs = 2000\n",
    "# initialise the train_loss & test_losses which will be updated\n",
    "train_losses = np.zeros(epochs)\n",
    "test_losses = np.zeros(epochs)\n",
    "\n",
    "for epoch in range(epochs): \n",
    "    y_pred = model(X_train)\n",
    "    loss = criterion(y_pred, y_train)\n",
    "    # clear old gradients from the last step\n",
    "    optimizer.zero_grad()\n",
    "    # compute the gradients necessary to adjust the weights\n",
    "    loss.backward()\n",
    "    # update the weights of the neural network\n",
    "    optimizer.step()\n",
    "\n",
    "    outputs_test = model(X_test)\n",
    "    loss_test = criterion(outputs_test, y_test)\n",
    "\n",
    "    train_losses[epoch] = loss.item()\n",
    "    test_losses[epoch] = loss_test.item()\n",
    "\n",
    "    if (epoch + 1) % 50 == 0:\n",
    "      print (str('Epoch ') + str((epoch+1)) + str('/') + str(epochs) + str(',  training loss = ') + str((loss.item())) + str(', test loss = ') + str(loss_test.item()))"
   ]
  },
  {
   "cell_type": "markdown",
   "metadata": {
    "papermill": {
     "duration": 0.012451,
     "end_time": "2020-08-16T13:07:23.700018",
     "exception": false,
     "start_time": "2020-08-16T13:07:23.687567",
     "status": "completed"
    },
    "tags": []
   },
   "source": [
    "Good, our model has been trained, now it's time to show the loss and accuracy"
   ]
  },
  {
   "cell_type": "code",
   "execution_count": 21,
   "metadata": {
    "execution": {
     "iopub.execute_input": "2020-08-16T13:07:23.731729Z",
     "iopub.status.busy": "2020-08-16T13:07:23.730718Z",
     "iopub.status.idle": "2020-08-16T13:07:23.989076Z",
     "shell.execute_reply": "2020-08-16T13:07:23.988308Z"
    },
    "papermill": {
     "duration": 0.276747,
     "end_time": "2020-08-16T13:07:23.989207",
     "exception": false,
     "start_time": "2020-08-16T13:07:23.712460",
     "status": "completed"
    },
    "tags": []
   },
   "outputs": [
    {
     "data": {
      "text/plain": [
       "Text(0.5, 1.0, 'Model Loss')"
      ]
     },
     "execution_count": 21,
     "metadata": {},
     "output_type": "execute_result"
    },
    {
     "data": {
      "image/png": "[encoded data removed]",
      "text/plain": [
       "<Figure size 432x288 with 1 Axes>"
      ]
     },
     "metadata": {
      "needs_background": "light"
     },
     "output_type": "display_data"
    }
   ],
   "source": [
    "# visualise the test and train loss\n",
    "plt.plot(train_losses, label = 'train loss')\n",
    "plt.plot(test_losses, label = 'test loss')\n",
    "plt.legend()\n",
    "plt.title('Model Loss')"
   ]
  },
  {
   "cell_type": "markdown",
   "metadata": {
    "papermill": {
     "duration": 0.012324,
     "end_time": "2020-08-16T13:07:24.014569",
     "exception": false,
     "start_time": "2020-08-16T13:07:24.002245",
     "status": "completed"
    },
    "tags": []
   },
   "source": [
    "Calculate the backward over the validation set"
   ]
  },
  {
   "cell_type": "code",
   "execution_count": 22,
   "metadata": {
    "execution": {
     "iopub.execute_input": "2020-08-16T13:07:24.049159Z",
     "iopub.status.busy": "2020-08-16T13:07:24.048303Z",
     "iopub.status.idle": "2020-08-16T13:07:24.053247Z",
     "shell.execute_reply": "2020-08-16T13:07:24.052332Z"
    },
    "papermill": {
     "duration": 0.026021,
     "end_time": "2020-08-16T13:07:24.053393",
     "exception": false,
     "start_time": "2020-08-16T13:07:24.027372",
     "status": "completed"
    },
    "tags": []
   },
   "outputs": [],
   "source": [
    "with torch.no_grad():\n",
    "  output_train = model(X_train)\n",
    "  output_train = (output_train.numpy() > 0)\n",
    "\n",
    "  train_acc = np.mean(y_train.numpy() == output_train)\n",
    "\n",
    "  output_test = model(X_test)\n",
    "  output_test = (output_test.numpy() > 0)\n",
    "  \n",
    "  test_acc = np.mean(y_test.numpy() == output_test)"
   ]
  },
  {
   "cell_type": "code",
   "execution_count": 23,
   "metadata": {
    "execution": {
     "iopub.execute_input": "2020-08-16T13:07:24.089699Z",
     "iopub.status.busy": "2020-08-16T13:07:24.088667Z",
     "iopub.status.idle": "2020-08-16T13:07:24.093368Z",
     "shell.execute_reply": "2020-08-16T13:07:24.092699Z"
    },
    "papermill": {
     "duration": 0.025263,
     "end_time": "2020-08-16T13:07:24.093503",
     "exception": false,
     "start_time": "2020-08-16T13:07:24.068240",
     "status": "completed"
    },
    "tags": []
   },
   "outputs": [
    {
     "name": "stdout",
     "output_type": "stream",
     "text": [
      "Train accuracy is: 0.9773869346733668\n"
     ]
    }
   ],
   "source": [
    "print ('Train accuracy is: ' + str(train_acc))"
   ]
  },
  {
   "cell_type": "code",
   "execution_count": 24,
   "metadata": {
    "execution": {
     "iopub.execute_input": "2020-08-16T13:07:24.126556Z",
     "iopub.status.busy": "2020-08-16T13:07:24.125492Z",
     "iopub.status.idle": "2020-08-16T13:07:24.129108Z",
     "shell.execute_reply": "2020-08-16T13:07:24.129725Z"
    },
    "papermill": {
     "duration": 0.023057,
     "end_time": "2020-08-16T13:07:24.129893",
     "exception": false,
     "start_time": "2020-08-16T13:07:24.106836",
     "status": "completed"
    },
    "tags": []
   },
   "outputs": [
    {
     "name": "stdout",
     "output_type": "stream",
     "text": [
      "Test accuracy is: 0.9773869346733668\n"
     ]
    }
   ],
   "source": [
    "print ('Test accuracy is: ' + str(train_acc))"
   ]
  }
 ],
 "metadata": {
  "kernelspec": {
   "display_name": "Python 3 (ipykernel)",
   "language": "python",
   "name": "python3"
  },
  "language_info": {
   "codemirror_mode": {
    "name": "ipython",
    "version": 3
   },
   "file_extension": ".py",
   "mimetype": "text/x-python",
   "name": "python",
   "nbconvert_exporter": "python",
   "pygments_lexer": "ipython3",
   "version": "3.9.12"
  },
  "papermill": {
   "duration": 12.828407,
   "end_time": "2020-08-16T13:07:24.251927",
   "environment_variables": {},
   "exception": null,
   "input_path": "__notebook__.ipynb",
   "output_path": "__notebook__.ipynb",
   "parameters": {},
   "start_time": "2020-08-16T13:07:11.423520",
   "version": "2.1.0"
  }
 },
 "nbformat": 4,
 "nbformat_minor": 4
}
